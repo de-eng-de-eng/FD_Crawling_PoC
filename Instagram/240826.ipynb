{
 "cells": [
  {
   "cell_type": "markdown",
   "id": "04bcb33e-52bf-4e65-a02b-b854d2d8292a",
   "metadata": {},
   "source": [
    "##### 인스타 해시태그 크롤링 ##"
   ]
  },
  {
   "cell_type": "markdown",
   "id": "60194217-ea30-4c9a-84b8-98203b62cbf0",
   "metadata": {},
   "source": [
    "## 1. 인스타그램 특정 계정의 최근 7일간의 게시글 정보 크롤링"
   ]
  },
  {
   "cell_type": "code",
   "execution_count": 12,
   "id": "656a0ac7-f1ef-43a1-856b-71381931585d",
   "metadata": {},
   "outputs": [
    {
     "name": "stdout",
     "output_type": "stream",
     "text": [
      "Requirement already satisfied: selenium in d:\\apps\\lib\\site-packages (4.23.1)\n",
      "Requirement already satisfied: pandas in d:\\apps\\lib\\site-packages (2.2.0)\n",
      "Requirement already satisfied: urllib3<3,>=1.26 in d:\\apps\\lib\\site-packages (from urllib3[socks]<3,>=1.26->selenium) (2.2.2)\n",
      "Requirement already satisfied: trio~=0.17 in d:\\apps\\lib\\site-packages (from selenium) (0.26.0)\n",
      "Requirement already satisfied: trio-websocket~=0.9 in d:\\apps\\lib\\site-packages (from selenium) (0.11.1)\n",
      "Requirement already satisfied: certifi>=2021.10.8 in d:\\apps\\lib\\site-packages (from selenium) (2024.7.4)\n",
      "Requirement already satisfied: typing_extensions~=4.9 in d:\\apps\\lib\\site-packages (from selenium) (4.11.0)\n",
      "Requirement already satisfied: websocket-client~=1.8 in d:\\apps\\lib\\site-packages (from selenium) (1.8.0)\n",
      "Requirement already satisfied: numpy<2,>=1.26.0 in d:\\apps\\lib\\site-packages (from pandas) (1.26.3)\n",
      "Requirement already satisfied: python-dateutil>=2.8.2 in d:\\apps\\lib\\site-packages (from pandas) (2.9.0.post0)\n",
      "Requirement already satisfied: pytz>=2020.1 in d:\\apps\\lib\\site-packages (from pandas) (2024.1)\n",
      "Requirement already satisfied: tzdata>=2022.7 in d:\\apps\\lib\\site-packages (from pandas) (2023.4)\n",
      "Requirement already satisfied: six>=1.5 in d:\\apps\\lib\\site-packages (from python-dateutil>=2.8.2->pandas) (1.16.0)\n",
      "Requirement already satisfied: attrs>=23.2.0 in d:\\apps\\lib\\site-packages (from trio~=0.17->selenium) (23.2.0)\n",
      "Requirement already satisfied: sortedcontainers in d:\\apps\\lib\\site-packages (from trio~=0.17->selenium) (2.4.0)\n",
      "Requirement already satisfied: idna in d:\\apps\\lib\\site-packages (from trio~=0.17->selenium) (3.7)\n",
      "Requirement already satisfied: outcome in d:\\apps\\lib\\site-packages (from trio~=0.17->selenium) (1.3.0.post0)\n",
      "Requirement already satisfied: sniffio>=1.3.0 in d:\\apps\\lib\\site-packages (from trio~=0.17->selenium) (1.3.0)\n",
      "Requirement already satisfied: cffi>=1.14 in d:\\apps\\lib\\site-packages (from trio~=0.17->selenium) (1.16.0)\n",
      "Requirement already satisfied: wsproto>=0.14 in d:\\apps\\lib\\site-packages (from trio-websocket~=0.9->selenium) (1.2.0)\n",
      "Requirement already satisfied: pysocks!=1.5.7,<2.0,>=1.5.6 in d:\\apps\\lib\\site-packages (from urllib3[socks]<3,>=1.26->selenium) (1.7.1)\n",
      "Requirement already satisfied: pycparser in d:\\apps\\lib\\site-packages (from cffi>=1.14->trio~=0.17->selenium) (2.21)\n",
      "Requirement already satisfied: h11<1,>=0.9.0 in d:\\apps\\lib\\site-packages (from wsproto>=0.14->trio-websocket~=0.9->selenium) (0.14.0)\n",
      "Note: you may need to restart the kernel to use updated packages.\n"
     ]
    }
   ],
   "source": [
    "pip install selenium pandas"
   ]
  },
  {
   "cell_type": "code",
   "execution_count": 1,
   "id": "6ec6a8b5-4674-4b1b-b34a-a5b05098b097",
   "metadata": {},
   "outputs": [
    {
     "ename": "ModuleNotFoundError",
     "evalue": "No module named 'webdriver_manager'",
     "output_type": "error",
     "traceback": [
      "\u001b[1;31m---------------------------------------------------------------------------\u001b[0m",
      "\u001b[1;31mModuleNotFoundError\u001b[0m                       Traceback (most recent call last)",
      "Cell \u001b[1;32mIn[1], line 4\u001b[0m\n\u001b[0;32m      2\u001b[0m \u001b[38;5;28;01mfrom\u001b[39;00m \u001b[38;5;21;01mselenium\u001b[39;00m\u001b[38;5;21;01m.\u001b[39;00m\u001b[38;5;21;01mwebdriver\u001b[39;00m\u001b[38;5;21;01m.\u001b[39;00m\u001b[38;5;21;01mcommon\u001b[39;00m\u001b[38;5;21;01m.\u001b[39;00m\u001b[38;5;21;01mby\u001b[39;00m \u001b[38;5;28;01mimport\u001b[39;00m By\n\u001b[0;32m      3\u001b[0m \u001b[38;5;28;01mfrom\u001b[39;00m \u001b[38;5;21;01mselenium\u001b[39;00m\u001b[38;5;21;01m.\u001b[39;00m\u001b[38;5;21;01mwebdriver\u001b[39;00m\u001b[38;5;21;01m.\u001b[39;00m\u001b[38;5;21;01mchrome\u001b[39;00m\u001b[38;5;21;01m.\u001b[39;00m\u001b[38;5;21;01mservice\u001b[39;00m \u001b[38;5;28;01mimport\u001b[39;00m Service\n\u001b[1;32m----> 4\u001b[0m \u001b[38;5;28;01mfrom\u001b[39;00m \u001b[38;5;21;01mwebdriver_manager\u001b[39;00m\u001b[38;5;21;01m.\u001b[39;00m\u001b[38;5;21;01mchrome\u001b[39;00m \u001b[38;5;28;01mimport\u001b[39;00m ChromeDriverManager\n\u001b[0;32m      5\u001b[0m \u001b[38;5;28;01mimport\u001b[39;00m \u001b[38;5;21;01mtime\u001b[39;00m\n\u001b[0;32m      6\u001b[0m \u001b[38;5;28;01mimport\u001b[39;00m \u001b[38;5;21;01mpandas\u001b[39;00m \u001b[38;5;28;01mas\u001b[39;00m \u001b[38;5;21;01mpd\u001b[39;00m\n",
      "\u001b[1;31mModuleNotFoundError\u001b[0m: No module named 'webdriver_manager'"
     ]
    }
   ],
   "source": [
    "from selenium import webdriver\n",
    "from selenium.webdriver.common.by import By\n",
    "from selenium.webdriver.chrome.service import Service\n",
    "from webdriver_manager.chrome import ChromeDriverManager\n",
    "import time\n",
    "import pandas as pd\n",
    "from datetime import datetime, timedelta\n",
    "\n",
    "# 1. 웹드라이버 설정 및 인스타그램 로그인\n",
    "driver = webdriver.Chrome(service=Service(ChromeDriverManager().install()))\n",
    "\n",
    "# 인스타그램 로그인 페이지로 이동\n",
    "driver.get(\"https://www.instagram.com/accounts/login/\")\n",
    "time.sleep(5)  # 페이지 로드를 기다림\n",
    "\n",
    "# 로그인 정보 입력 (수동 로그인을 위해 시간을 더 줌)\n",
    "username = \"﻿snsdkf1234@naver.com\"\n",
    "password = \"wel1234\"\n",
    "\n",
    "driver.find_element(By.NAME, \"﻿snsdkf1234@naver.com\").send_keys(username)\n",
    "driver.find_element(By.NAME, \"wel1234\").send_keys(password)\n",
    "driver.find_element(By.XPATH, '//*[@id=\"loginForm\"]/div/div[3]/button').click()\n",
    "time.sleep(10)  # 로그인 후 대기\n",
    "\n",
    "# 2. 특정 계정으로 이동\n",
    "account_name = \"seoul___nadri\"  # 크롤링할 계정의 사용자 이름\n",
    "driver.get(f\"https://www.instagram.com/{account_name}/\")\n",
    "time.sleep(5)\n",
    "\n",
    "# 3. 최근 7일간의 게시물 탐색 및 데이터 추출\n",
    "posts_data = []\n",
    "now = datetime.now()\n",
    "\n",
    "# 게시물 URL 리스트 가져오기\n",
    "posts = driver.find_elements(By.XPATH, '//a[contains(@href, \"/p/\")]')\n",
    "\n",
    "for post in posts:\n",
    "    post_url = post.get_attribute('href')\n",
    "    driver.get(post_url)\n",
    "    time.sleep(5)  # 게시물 페이지 로드 대기\n",
    "\n",
    "    # 4. 게시물 데이터 추출\n",
    "    try:\n",
    "        likes = driver.find_element(By.XPATH, '//div[contains(@class, \"Nm9Fw\")]/button/span').text\n",
    "    except:\n",
    "        likes = '0'\n",
    "    \n",
    "    hashtags = [tag.text for tag in driver.find_elements(By.XPATH, '//a[contains(@href, \"/explore/tags/\")]')]\n",
    "    hashtags = hashtags[:10]  # 상위 10개 해시태그만 가져오기\n",
    "    \n",
    "    try:\n",
    "        post_text = driver.find_element(By.XPATH, '//div[@class=\"C4VMK\"]/span').text\n",
    "    except:\n",
    "        post_text = \"\"\n",
    "\n",
    "    post_date_element = driver.find_element(By.XPATH, '//time')\n",
    "    post_date = post_date_element.get_attribute('datetime')\n",
    "    post_date = datetime.strptime(post_date, \"%Y-%m-%dT%H:%M:%S.%fZ\")  # ISO 형식을 datetime으로 변환\n",
    "    \n",
    "    # 5. 7일 내의 게시물만 필터링\n",
    "    if now - timedelta(days=7) > post_date:\n",
    "        break\n",
    "\n",
    "    posts_data.append({\n",
    "        'account_name': account_name,\n",
    "        'likes': likes,\n",
    "        'hashtags': ', '.join(hashtags),\n",
    "        'post_text': post_text,\n",
    "        'post_date': post_date.strftime(\"%Y-%m-%d %H:%M:%S\"),\n",
    "        'crawl_time': now.strftime(\"%Y-%m-%d %H:%M:%S\"),\n",
    "        'post_url': post_url\n",
    "    })\n",
    "\n",
    "# 6. 데이터 저장\n",
    "df = pd.DataFrame(posts_data)\n",
    "df.to_csv(f'{account_name}_posts.csv', index=False)\n",
    "\n",
    "driver.quit()\n"
   ]
  },
  {
   "cell_type": "code",
   "execution_count": 3,
   "id": "ba0c0147-b6c2-4abc-9b34-323dc496e98f",
   "metadata": {},
   "outputs": [
    {
     "name": "stdout",
     "output_type": "stream",
     "text": [
      "Collecting webdriver-manager\n",
      "  Downloading webdriver_manager-4.0.2-py2.py3-none-any.whl.metadata (12 kB)\n",
      "Requirement already satisfied: requests in d:\\apps\\lib\\site-packages (from webdriver-manager) (2.32.2)\n",
      "Requirement already satisfied: python-dotenv in d:\\apps\\lib\\site-packages (from webdriver-manager) (0.21.0)\n",
      "Requirement already satisfied: packaging in d:\\apps\\lib\\site-packages (from webdriver-manager) (23.2)\n",
      "Requirement already satisfied: charset-normalizer<4,>=2 in d:\\apps\\lib\\site-packages (from requests->webdriver-manager) (2.0.4)\n",
      "Requirement already satisfied: idna<4,>=2.5 in d:\\apps\\lib\\site-packages (from requests->webdriver-manager) (3.7)\n",
      "Requirement already satisfied: urllib3<3,>=1.21.1 in d:\\apps\\lib\\site-packages (from requests->webdriver-manager) (2.2.2)\n",
      "Requirement already satisfied: certifi>=2017.4.17 in d:\\apps\\lib\\site-packages (from requests->webdriver-manager) (2024.7.4)\n",
      "Downloading webdriver_manager-4.0.2-py2.py3-none-any.whl (27 kB)\n",
      "Installing collected packages: webdriver-manager\n",
      "Successfully installed webdriver-manager-4.0.2\n",
      "Note: you may need to restart the kernel to use updated packages.\n"
     ]
    }
   ],
   "source": [
    "pip install webdriver-manager"
   ]
  },
  {
   "cell_type": "code",
   "execution_count": 3,
   "id": "8f823cc1-6614-4106-89dc-51863e7bdd35",
   "metadata": {},
   "outputs": [
    {
     "name": "stdout",
     "output_type": "stream",
     "text": [
      "Name: webdriver-manager\n",
      "Version: 4.0.2\n",
      "Summary: Library provides the way to automatically manage drivers for different browsers\n",
      "Home-page: https://github.com/SergeyPirogov/webdriver_manager\n",
      "Author: Sergey Pirogov\n",
      "Author-email: automationremarks@gmail.com\n",
      "License: \n",
      "Location: D:\\apps\\Lib\\site-packages\n",
      "Requires: packaging, python-dotenv, requests\n",
      "Required-by: \n",
      "Note: you may need to restart the kernel to use updated packages.\n"
     ]
    }
   ],
   "source": [
    "pip show webdriver-manager"
   ]
  },
  {
   "cell_type": "code",
   "execution_count": null,
   "id": "91d64f89-4ba7-4621-8e3c-6122b37528dc",
   "metadata": {},
   "outputs": [],
   "source": []
  }
 ],
 "metadata": {
  "kernelspec": {
   "display_name": "Python 3 (ipykernel)",
   "language": "python",
   "name": "python3"
  },
  "language_info": {
   "codemirror_mode": {
    "name": "ipython",
    "version": 3
   },
   "file_extension": ".py",
   "mimetype": "text/x-python",
   "name": "python",
   "nbconvert_exporter": "python",
   "pygments_lexer": "ipython3",
   "version": "3.12.4"
  }
 },
 "nbformat": 4,
 "nbformat_minor": 5
}
